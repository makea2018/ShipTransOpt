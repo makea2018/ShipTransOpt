{
 "cells": [
  {
   "cell_type": "markdown",
   "metadata": {},
   "source": [
    "# Импорт библиотек"
   ]
  },
  {
   "cell_type": "code",
   "execution_count": 16,
   "metadata": {},
   "outputs": [],
   "source": [
    "import pandas as pd\n",
    "import numpy as np\n",
    "import matplotlib.pyplot as plt\n",
    "from numpy import nan"
   ]
  },
  {
   "cell_type": "markdown",
   "metadata": {},
   "source": [
    "# Генерация данных"
   ]
  },
  {
   "cell_type": "markdown",
   "metadata": {},
   "source": [
    "Данные описывают рейсы судов, в которых указана основная информация о судне, перевозимом грузе, детали маршрута, погодные условия.  \n",
    "хрупкость груза\n",
    "Данные содержат в себе следующие переменные:\n",
    "- vessel_type - тип судна (класс);\n",
    "- L - длина судна, м;\n",
    "- B - ширина судна, м;\n",
    "- d - осадка судна, м;\n",
    "- DW - дедвейт судна, т;\n",
    "- speed - скорость судна, узлы;\n",
    "- cargo_type - тип груза;\n",
    "- cargo_length - длина груза, м;\n",
    "- cargo_breadth - ширина груза, м;\n",
    "- cost_per_mile - стоимость транспортировки 1 ед. товара / 1 милю;\n",
    "- cargo_demand - спрос на товар;\n",
    "- cargo_value - ценность груза;\n",
    "- cargo_fragility - хрупкость груза;\n",
    "- cargo_danger - опасность груза (химикаты, ядовитые вещества, горючие вещества, взрывоопасные вещества);\n",
    "- sea_route - маршрут судна, кол-во миль;\n",
    "- wind_strength - сила ветра, балл;\n",
    "- sea_state - степень волнения моря, балл;\n",
    "- wind_direction - направление ветра;\n",
    "- natural_disaster - природные катаклизмы (цунами, землетрясение, наводнение, торнадо);\n",
    "- target - стоимость транспортировки груза, доллар ($)."
   ]
  },
  {
   "cell_type": "code",
   "execution_count": 76,
   "metadata": {},
   "outputs": [],
   "source": [
    "# Формирование датафрейма\n",
    "columns = [\"vessel_type\", \"L\", \"B\", \"d\", \"DW\", \"speed\", \"cargo_type\",\n",
    "           \"cargo_length\", \"cargo_breadth\", \"cost_per_mile\", \"cargo_demand\",\n",
    "           \"cargo_value\", \"cargo_fragility\", \"cargo_danger\", \"sea_route\",\n",
    "           \"wind_strength\", \"sea_state\", \"wind_direction\", \"natural_disaster\",\n",
    "           \"target\"]\n",
    "df = pd.DataFrame(columns=columns)"
   ]
  },
  {
   "cell_type": "code",
   "execution_count": null,
   "metadata": {},
   "outputs": [],
   "source": [
    "# Функция для генерации initial_data для одного конкретного судна\n",
    "def generate_init_data(vessel_type: str, L: float, B: float, d: float, )"
   ]
  },
  {
   "cell_type": "markdown",
   "metadata": {},
   "source": [
    "## Грузовые суда"
   ]
  },
  {
   "cell_type": "code",
   "execution_count": 77,
   "metadata": {},
   "outputs": [],
   "source": [
    "# Cargo vessels\n",
    "AMIRA_MARYANA = [\n",
    "    [\"cargo vessel\", 175.53, 29.4, 10.1, 32029, 11.7, \"appliances\", 10, 3.2] + [nan] * (df.shape[1] - 9)\n",
    "]"
   ]
  },
  {
   "cell_type": "code",
   "execution_count": 78,
   "metadata": {},
   "outputs": [
    {
     "name": "stderr",
     "output_type": "stream",
     "text": [
      "C:\\Users\\User\\AppData\\Local\\Temp\\ipykernel_6980\\3184271662.py:2: FutureWarning: The frame.append method is deprecated and will be removed from pandas in a future version. Use pandas.concat instead.\n",
      "  df = df.append(pd.DataFrame(data=np.array(AMIRA_MARYANA), columns=df.columns))\n"
     ]
    }
   ],
   "source": [
    "# Добавляем данные в df\n",
    "df = df.append(pd.DataFrame(data=np.array(AMIRA_MARYANA), columns=df.columns))"
   ]
  },
  {
   "cell_type": "code",
   "execution_count": 79,
   "metadata": {},
   "outputs": [
    {
     "data": {
      "text/plain": [
       "vessel_type         object\n",
       "L                   object\n",
       "B                   object\n",
       "d                   object\n",
       "DW                  object\n",
       "speed               object\n",
       "cargo_type          object\n",
       "cargo_length        object\n",
       "cargo_breadth       object\n",
       "cost_per_mile       object\n",
       "cargo_demand        object\n",
       "cargo_value         object\n",
       "cargo_fragility     object\n",
       "cargo_danger        object\n",
       "sea_route           object\n",
       "wind_strength       object\n",
       "sea_state           object\n",
       "wind_direction      object\n",
       "natural_disaster    object\n",
       "target              object\n",
       "dtype: object"
      ]
     },
     "execution_count": 79,
     "metadata": {},
     "output_type": "execute_result"
    }
   ],
   "source": [
    "df.dtypes"
   ]
  },
  {
   "cell_type": "markdown",
   "metadata": {},
   "source": [
    "## Танкеры"
   ]
  }
 ],
 "metadata": {
  "kernelspec": {
   "display_name": "Python 3",
   "language": "python",
   "name": "python3"
  },
  "language_info": {
   "codemirror_mode": {
    "name": "ipython",
    "version": 3
   },
   "file_extension": ".py",
   "mimetype": "text/x-python",
   "name": "python",
   "nbconvert_exporter": "python",
   "pygments_lexer": "ipython3",
   "version": "3.10.5"
  }
 },
 "nbformat": 4,
 "nbformat_minor": 2
}
