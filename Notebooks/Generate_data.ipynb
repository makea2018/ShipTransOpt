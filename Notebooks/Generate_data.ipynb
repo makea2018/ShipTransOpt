{
 "cells": [
  {
   "cell_type": "markdown",
   "metadata": {},
   "source": [
    "# Импорт библиотек"
   ]
  },
  {
   "cell_type": "code",
   "execution_count": 94,
   "metadata": {},
   "outputs": [],
   "source": [
    "import pandas as pd\n",
    "import numpy as np\n",
    "import matplotlib.pyplot as plt\n",
    "from numpy import nan"
   ]
  },
  {
   "cell_type": "markdown",
   "metadata": {},
   "source": [
    "## Важные функции"
   ]
  },
  {
   "cell_type": "code",
   "execution_count": 97,
   "metadata": {},
   "outputs": [],
   "source": [
    "# Генерация рандомных десятичных чисел\n",
    "def sample_floats(low, high, k=1):\n",
    "    \"\"\" Функция возвращает k-length список рандомных десятичных чисел\n",
    "        где число находится в промежутке low <= float <= high\n",
    "        \n",
    "        --\n",
    "        \n",
    "        Параметры:\n",
    "        low - минимальное значение,\n",
    "        high - максимальное значение,\n",
    "        k - кол-во примеров\n",
    "    \"\"\"\n",
    "    result = []\n",
    "    seen = set()\n",
    "    for i in range(k):\n",
    "        x = round(np.random.uniform(low, high), 1)\n",
    "        while x in seen:\n",
    "            x = round(np.random.uniform(low, high), 1)\n",
    "        seen.add(x)\n",
    "        result.append(x)\n",
    "    return result"
   ]
  },
  {
   "cell_type": "code",
   "execution_count": null,
   "metadata": {},
   "outputs": [],
   "source": [
    "# Функция для генерации initial_data для одного конкретного судна\n",
    "def generate_initial_data(vessel_type: str, L: float, B: float,\n",
    "                          d: float, DW: float, speed: float,\n",
    "                          cargo_type: str):\n",
    "    \"\"\"\n",
    "    Функция генерирует начальные примеры рейсов для уникального судна\n",
    "    \"\"\"\n",
    "    \n"
   ]
  },
  {
   "cell_type": "markdown",
   "metadata": {},
   "source": [
    "# Генерация данных"
   ]
  },
  {
   "cell_type": "markdown",
   "metadata": {},
   "source": [
    "Данные описывают рейсы судов, в которых указана основная информация о судне, перевозимом грузе, детали маршрута, погодные условия.  \n",
    "хрупкость груза\n",
    "Данные содержат в себе следующие переменные:\n",
    "- vessel_type - тип судна (класс);\n",
    "- L - длина судна, м;\n",
    "- B - ширина судна, м;\n",
    "- d - осадка судна, м;\n",
    "- DW - дедвейт судна, т;\n",
    "- speed - скорость судна, узлы;\n",
    "- cargo_type - тип груза;\n",
    "- cargo_length - длина груза, м;\n",
    "- cargo_breadth - ширина груза, м;\n",
    "- cost_per_mile - стоимость транспортировки 1 ед. товара / 1 милю;\n",
    "- cargo_demand - спрос на товар;\n",
    "- cargo_value - ценность груза;\n",
    "- cargo_fragility - хрупкость груза;\n",
    "- cargo_danger - опасность груза (химикаты, ядовитые вещества, горючие вещества, взрывоопасные вещества);\n",
    "- sea_route - маршрут судна, кол-во миль;\n",
    "- wind_strength - сила ветра, балл;\n",
    "- sea_state - степень волнения моря, балл;\n",
    "- wind_direction - направление ветра;\n",
    "- natural_disaster - природные катаклизмы (цунами, землетрясение, наводнение, торнадо);\n",
    "- target - стоимость транспортировки груза, доллар ($)."
   ]
  },
  {
   "cell_type": "code",
   "execution_count": 84,
   "metadata": {},
   "outputs": [],
   "source": [
    "# Формирование датафрейма\n",
    "columns = [\"vessel_type\", \"L\", \"B\", \"d\", \"DW\", \"speed\", \"cargo_type\",\n",
    "           \"cargo_length\", \"cargo_breadth\", \"cost_per_mile\", \"cargo_demand\",\n",
    "           \"cargo_value\", \"cargo_fragility\", \"cargo_danger\", \"sea_route\",\n",
    "           \"wind_strength\", \"sea_state\", \"wind_direction\", \"natural_disaster\",\n",
    "           \"target\"]\n",
    "df = pd.DataFrame(columns=columns)"
   ]
  },
  {
   "cell_type": "markdown",
   "metadata": {},
   "source": [
    "## Грузовые суда"
   ]
  },
  {
   "cell_type": "code",
   "execution_count": 85,
   "metadata": {},
   "outputs": [],
   "source": [
    "# 1-ое\n",
    "AMIRA_MARYANA = [\n",
    "    [\"cargo vessel\", 175.53, 29.4, 10.1, 32029.0, 11.7, \"appliances\", 10.0, 3.2] + [nan] * (df.shape[1] - 9)\n",
    "]\n",
    "\n",
    "# 2-ое\n",
    "SERDOLIK = [\n",
    "    [\"cargo vessel\", 89.96, 14.58, 4.6, 5027.0, 9.0, \"furniture\", 5.6, 1.7] + [nan] * (df.shape[1] - 9)\n",
    "]\n",
    "\n",
    "# 3-ое\n",
    "DESPINA = [\n",
    "    [\"cargo vessel\", 224.94, 32.26, 7.0, 76633.0, 7.0, \"furniture\", 12.1, 3.3] + [nan] * (df.shape[1] - 9)\n",
    "]\n",
    "\n",
    "# 4-ое\n",
    "EDFU = [\n",
    "    [\"cargo vessel\", 223.7, 32.3, 6.6, 71572.0, 11.6, \"appliances\", 5.4, 2.6] + [nan] * (df.shape[1] - 9)\n",
    "]\n",
    "\n",
    "# 5-ое\n",
    "GIVING = [\n",
    "    [\"cargo vessel\", 189.6, 30.5, 8.5, 45428.0, 12.3, \"appliances\", 6.78, 4.71] + [nan] * (df.shape[1] - 9)\n",
    "]\n",
    "# 6-ое\n",
    "OSMAN_BEY = [\n",
    "    [\"cargo vessel\", 165.5, 27.0, 9.1, 27321.6, 8.5, \"furniture\", 3.15, 0.9] + [nan] * (df.shape[1] - 9)\n",
    "]\n",
    "\n",
    "# 7-ое\n",
    "TQ_TRABZON = [\n",
    "    [\"cargo vessel\", 87.89, 12.8, 6.0, 3729.0, 8.3, \"appliances\", 4.23, 1.56] + [nan] * (df.shape[1] - 9)\n",
    "]\n",
    "\n",
    "# 8-ое\n",
    "KURTULUS = [\n",
    "    [\"cargo vessel\", 92.25, 15, 4.5, 5300.0, 9.0, \"appliances\", 3.78, 1.3] + [nan] * (df.shape[1] - 9)\n",
    "]\n",
    "\n",
    "# 9-ое\n",
    "AEOLIAN_FORTUNE = [\n",
    "    [\"cargo vessel\", 228.99, 32.26, 7.2, 82099.3, 7.6, \"furniture\", 12.54, 7.58] + [nan] * (df.shape[1] - 9)\n",
    "]\n",
    "\n",
    "# 10-ое\n",
    "SERENITY_AC = [\n",
    "    [\"cargo vessel\", 75.0, 10.7, 3.3, 1750.0, 8.2, \"appliances\", 2.12, 0.85] + [nan] * (df.shape[1] - 9)\n",
    "]"
   ]
  },
  {
   "cell_type": "code",
   "execution_count": 86,
   "metadata": {},
   "outputs": [],
   "source": [
    "# Добавляем данные в df\n",
    "df = pd.concat([df, pd.DataFrame(data=np.array(AMIRA_MARYANA), columns=df.columns)], ignore_index=True)"
   ]
  },
  {
   "cell_type": "code",
   "execution_count": 87,
   "metadata": {},
   "outputs": [
    {
     "data": {
      "text/html": [
       "<div>\n",
       "<style scoped>\n",
       "    .dataframe tbody tr th:only-of-type {\n",
       "        vertical-align: middle;\n",
       "    }\n",
       "\n",
       "    .dataframe tbody tr th {\n",
       "        vertical-align: top;\n",
       "    }\n",
       "\n",
       "    .dataframe thead th {\n",
       "        text-align: right;\n",
       "    }\n",
       "</style>\n",
       "<table border=\"1\" class=\"dataframe\">\n",
       "  <thead>\n",
       "    <tr style=\"text-align: right;\">\n",
       "      <th></th>\n",
       "      <th>vessel_type</th>\n",
       "      <th>L</th>\n",
       "      <th>B</th>\n",
       "      <th>d</th>\n",
       "      <th>DW</th>\n",
       "      <th>speed</th>\n",
       "      <th>cargo_type</th>\n",
       "      <th>cargo_length</th>\n",
       "      <th>cargo_breadth</th>\n",
       "      <th>cost_per_mile</th>\n",
       "      <th>cargo_demand</th>\n",
       "      <th>cargo_value</th>\n",
       "      <th>cargo_fragility</th>\n",
       "      <th>cargo_danger</th>\n",
       "      <th>sea_route</th>\n",
       "      <th>wind_strength</th>\n",
       "      <th>sea_state</th>\n",
       "      <th>wind_direction</th>\n",
       "      <th>natural_disaster</th>\n",
       "      <th>target</th>\n",
       "    </tr>\n",
       "  </thead>\n",
       "  <tbody>\n",
       "    <tr>\n",
       "      <th>0</th>\n",
       "      <td>cargo vessel</td>\n",
       "      <td>175.53</td>\n",
       "      <td>29.4</td>\n",
       "      <td>10.1</td>\n",
       "      <td>32029.0</td>\n",
       "      <td>11.7</td>\n",
       "      <td>appliances</td>\n",
       "      <td>10.0</td>\n",
       "      <td>3.2</td>\n",
       "      <td>nan</td>\n",
       "      <td>nan</td>\n",
       "      <td>nan</td>\n",
       "      <td>nan</td>\n",
       "      <td>nan</td>\n",
       "      <td>nan</td>\n",
       "      <td>nan</td>\n",
       "      <td>nan</td>\n",
       "      <td>nan</td>\n",
       "      <td>nan</td>\n",
       "      <td>nan</td>\n",
       "    </tr>\n",
       "  </tbody>\n",
       "</table>\n",
       "</div>"
      ],
      "text/plain": [
       "    vessel_type       L     B     d       DW speed  cargo_type cargo_length  \\\n",
       "0  cargo vessel  175.53  29.4  10.1  32029.0  11.7  appliances         10.0   \n",
       "\n",
       "  cargo_breadth cost_per_mile cargo_demand cargo_value cargo_fragility  \\\n",
       "0           3.2           nan          nan         nan             nan   \n",
       "\n",
       "  cargo_danger sea_route wind_strength sea_state wind_direction  \\\n",
       "0          nan       nan           nan       nan            nan   \n",
       "\n",
       "  natural_disaster target  \n",
       "0              nan    nan  "
      ]
     },
     "execution_count": 87,
     "metadata": {},
     "output_type": "execute_result"
    }
   ],
   "source": [
    "df"
   ]
  },
  {
   "cell_type": "markdown",
   "metadata": {},
   "source": [
    "## Танкеры"
   ]
  },
  {
   "cell_type": "code",
   "execution_count": null,
   "metadata": {},
   "outputs": [],
   "source": []
  }
 ],
 "metadata": {
  "kernelspec": {
   "display_name": "Python 3",
   "language": "python",
   "name": "python3"
  },
  "language_info": {
   "codemirror_mode": {
    "name": "ipython",
    "version": 3
   },
   "file_extension": ".py",
   "mimetype": "text/x-python",
   "name": "python",
   "nbconvert_exporter": "python",
   "pygments_lexer": "ipython3",
   "version": "3.10.5"
  }
 },
 "nbformat": 4,
 "nbformat_minor": 2
}
