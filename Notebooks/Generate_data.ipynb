{
 "cells": [
  {
   "cell_type": "markdown",
   "metadata": {},
   "source": [
    "# Импорт библиотек"
   ]
  },
  {
   "cell_type": "code",
   "execution_count": 1,
   "metadata": {},
   "outputs": [],
   "source": [
    "import pandas as pd\n",
    "import numpy as np\n",
    "import matplotlib.pyplot as plt\n",
    "from numpy import nan\n",
    "from typing import List, Dict"
   ]
  },
  {
   "cell_type": "markdown",
   "metadata": {},
   "source": [
    "## Константные переменные"
   ]
  },
  {
   "cell_type": "code",
   "execution_count": 2,
   "metadata": {},
   "outputs": [],
   "source": [
    "# Спрос на товар\n",
    "cargo_demand = [\"маленький\", \"большой\"]\n",
    "# Ценность товара\n",
    "cargo_value = [\"обычный\", \"ценный\", \"очень ценный\"]\n",
    "# Хрупкость товара\n",
    "cargo_fragility = [\"не хрупкий\", \"хрупкий\"]\n",
    "# Сила ветра\n",
    "wind_strength = {\"штиль\": 0, \"тихий ветер\": 1, \"легкий ветер\": 2, \"слабый ветер\": 3,\n",
    "                 \"умеренный ветер\": 4, \"свежий ветер\": 5, \"сильный ветер\": 6,\n",
    "                 \"крепкий ветер\": 7, \"очень крепкий ветер\": 8, \"шторм\": 9}\n",
    "# Сила волнения\n",
    "sea_state = {\"полный штиль\": 0, \"штиль\": 1, \"очень слабое\": 2, \"слабое\": 3,\n",
    "             \"умеренное\": 4, \"значительное\": 5, \"очень бурное\": 6, \"сильное\": 7}\n",
    "# Направление ветра\n",
    "wind_direction = [\"С\", \"Ю\", \"З\", \"В\"]"
   ]
  },
  {
   "cell_type": "code",
   "execution_count": 3,
   "metadata": {},
   "outputs": [],
   "source": [
    "# Виды грузов, которые перевозят сухогрузы\n",
    "cargo_types_cargo_vessel = [\"зерно\", \"бобовые\", \"мука\", \"хлопок\", \"руда\", \"песок\", \"стройматериалы\",\n",
    "                            \"автомобили\", \"текстиль\", \"бумага\", \"металлоконструкции\", \"бытовая техника\",\n",
    "                            \"мебель\", \"рыба\"]\n",
    "\n",
    "# Виды грузов, которые перевозят танкеры\n",
    "cargo_types_tanker = [\"сырая нефть\", \"нефтепродукты\", \"природный газ\", \"химические грузы\", \"пищевые грузы\",\n",
    "                      \"сжиженные углеводородные газы\", \"спирт\", \"метанол\", \"расплавленный камень\", \"аммиак\"]"
   ]
  },
  {
   "cell_type": "markdown",
   "metadata": {},
   "source": [
    "## Важные функции"
   ]
  },
  {
   "cell_type": "code",
   "execution_count": 4,
   "metadata": {},
   "outputs": [],
   "source": [
    "# Функция для генерации initial_data для одного конкретного судна\n",
    "def generate_initial_data(vessel_title: str, vessel_type: str, L: float,\n",
    "                          B: float, d: float, DW: float, speed: float,\n",
    "                          cargo_type: List[str], cargo_demand: List[str] = cargo_demand,\n",
    "                          cargo_value: List[str] = cargo_value, cargo_fragility: List[str] = cargo_fragility,\n",
    "                          cargo_danger: str = nan, wind_strength: Dict[str, int] = wind_strength,\n",
    "                          sea_state: List[str] = sea_state, wind_direction: List[str] = wind_direction,\n",
    "                          N: int = 5):\n",
    "    \"\"\"\n",
    "    Функция генерирует начальные примеры рейсов для уникального судна\n",
    "\n",
    "    ----\n",
    "    Вход:\n",
    "        vessel_title - название судна \\n\n",
    "        vessel_type - тип судна \\n\n",
    "        L - длина судна, м \\n\n",
    "        B - ширина судна, м \\n\n",
    "        d - осадка судна, м \\n\n",
    "        DW - дедвейт судна, т \\n\n",
    "        speed - скорость судна, уз \\n\n",
    "        cargo_type - тип груза \\n\n",
    "        cargo_demand - спрос на товар \\n\n",
    "        cargo_value - ценность груза \\n\n",
    "        cargo_fragility - хрупкость груза \\n\n",
    "        cargo_danger - опасность груза \\n\n",
    "        wind_strength - сила ветра, балл \\n\n",
    "        sea_state - степень волнения моря, балл \\n\n",
    "        wind_direction - направление ветра \\n\n",
    "        N - количество примеров для генерации \\n\n",
    "\n",
    "    ----\n",
    "    Выход:\n",
    "        список сгенерированных примеров для одного уникального судна\n",
    "    \"\"\"\n",
    "    # Массив, в котором хранятся все сгенерированные данные\n",
    "    generated_data = []\n",
    "\n",
    "    # Запишем значения ветра в отдельный список\n",
    "    wind_strength_list = list(wind_strength.keys())\n",
    "    # Запишем все значения волнения в отдельный список\n",
    "    sea_state_list = list(sea_state.keys())\n",
    "    # Запишем малые значения волнения в отдельный список\n",
    "    small_sea_state_list = sea_state_list[:5]\n",
    "    # Запишем большие значения волнения в отдельный список\n",
    "    large_sea_state_list = sea_state_list[5:8]\n",
    "    \n",
    "    # Генерация кол-ва примеров (N)\n",
    "    for i in range(1, N + 1):\n",
    "        # Генерация типа груза на судне\n",
    "        cargo_type_ = np.random.choice(cargo_type)\n",
    "        # Генерация количества груза\n",
    "        cargo_amount = float(np.random.randint(1, 0.1 * DW))\n",
    "        # Генерация спроса на товар\n",
    "        cargo_demand_ = np.random.choice(cargo_demand)\n",
    "        # Генерация ценности груза\n",
    "        cargo_value_ = np.random.choice(cargo_value)\n",
    "        # Генерация хрупкости груза\n",
    "        cargo_fragility_ = np.random.choice(cargo_fragility)\n",
    "        # Генерация протяженности маршрута судна\n",
    "        sea_route = np.random.randint(500, 9000)\n",
    "        # Генерация силы ветра\n",
    "        wind_strength_ = np.random.choice(wind_strength_list)\n",
    "        \n",
    "        # Генерация силы волнения\n",
    "        if wind_strength[wind_strength_] > 5:\n",
    "            sea_state_ = np.random.choice(large_sea_state_list)\n",
    "        else:\n",
    "            sea_state_ = np.random.choice(small_sea_state_list)\n",
    "\n",
    "        # Генерация направления ветра\n",
    "        wind_direction_ = np.random.choice(wind_direction)\n",
    "        \n",
    "        \n",
    "        if i == 1:\n",
    "            # Базовый пример\n",
    "            new_example = [vessel_title, vessel_type, L, B, d, DW, speed, cargo_type_,\n",
    "                           cargo_amount, nan, cargo_demand_, cargo_value_,\n",
    "                           cargo_fragility_, cargo_danger, sea_route,\n",
    "                           wind_strength_, sea_state_, wind_direction_,\n",
    "                           nan]\n",
    "        else:\n",
    "            # Генерация скорости судна\n",
    "            speed_ = (np.random.uniform(speed - 1.5, speed + 1.5, 1).round(1))[0]\n",
    "            new_example = [vessel_title, vessel_type, L, B, d, DW, speed_, cargo_type_,\n",
    "                           cargo_amount, nan, cargo_demand_, cargo_value_,\n",
    "                           cargo_fragility_, cargo_danger, sea_route,\n",
    "                           wind_strength_, sea_state_, wind_direction_,\n",
    "                           nan]\n",
    "        \n",
    "        # Добавляем сгенерированные данные в массив\n",
    "        generated_data.append(new_example)\n",
    "\n",
    "    return generated_data"
   ]
  },
  {
   "cell_type": "code",
   "execution_count": 5,
   "metadata": {},
   "outputs": [
    {
     "name": "stdout",
     "output_type": "stream",
     "text": [
      "['AMIRA_MARYANA', 'сухогруз', 100, 12, 6.4, 12000, 7.6, 'мебель', 962.0, nan, 'большой', 'очень ценный', 'не хрупкий', nan, 7550, 'сильный ветер', 'сильное', 'С', nan]\n",
      "['AMIRA_MARYANA', 'сухогруз', 100, 12, 6.4, 12000, 6.5, 'бытовая техника', 952.0, nan, 'маленький', 'очень ценный', 'не хрупкий', nan, 8553, 'штиль', 'умеренное', 'С', nan]\n",
      "['AMIRA_MARYANA', 'сухогруз', 100, 12, 6.4, 12000, 8.1, 'мебель', 26.0, nan, 'большой', 'ценный', 'хрупкий', nan, 8928, 'шторм', 'очень бурное', 'З', nan]\n"
     ]
    }
   ],
   "source": [
    "# Пример работы функции для генерации данных\n",
    "for i in generate_initial_data(vessel_title=\"AMIRA_MARYANA\", vessel_type=\"сухогруз\", L=100, B=12, d=6.4,\n",
    "                               DW=12000, speed=7.6, cargo_type=[\"бытовая техника\", \"мебель\"], N=3):\n",
    "    print(i)"
   ]
  },
  {
   "cell_type": "markdown",
   "metadata": {},
   "source": [
    "# Генерация данных"
   ]
  },
  {
   "cell_type": "markdown",
   "metadata": {},
   "source": [
    "Данные описывают рейсы судов, в которых указана основная информация о судне, перевозимом грузе, детали маршрута, погодные условия.  \n",
    "хрупкость груза\n",
    "Данные содержат в себе следующие переменные:\n",
    "- vessel_title - название судна;\n",
    "- vessel_type - тип судна (класс);\n",
    "- L - длина судна, м;\n",
    "- B - ширина судна, м;\n",
    "- d - осадка судна, м;\n",
    "- DW - дедвейт судна, т;\n",
    "- speed - скорость судна, узлы;\n",
    "- cargo_type - тип груза;\n",
    "- cargo_amount - количество груза, т;\n",
    "- cost_per_mile - стоимость транспортировки 1 т. товара / 1 милю;\n",
    "- cargo_demand - спрос на товар;\n",
    "- cargo_value - ценность груза;\n",
    "- cargo_fragility - хрупкость груза;\n",
    "- cargo_danger - опасность груза (химикаты, ядовитые вещества, горючие вещества, взрывоопасные вещества);\n",
    "- sea_route - маршрут судна, кол-во миль;\n",
    "- wind_strength - сила ветра, балл;\n",
    "- sea_state - степень волнения моря, балл;\n",
    "- wind_direction - направление ветра;\n",
    "- target - стоимость транспортировки груза, доллар ($)."
   ]
  },
  {
   "cell_type": "code",
   "execution_count": 6,
   "metadata": {},
   "outputs": [],
   "source": [
    "# Формирование датафрейма\n",
    "columns = [\"vessel_title\", \"vessel_type\", \"L\", \"B\", \"d\", \"DW\",\n",
    "           \"speed\", \"cargo_type\", \"cargo_amount\", \"cost_per_mile\", \"cargo_demand\",\n",
    "           \"cargo_value\", \"cargo_fragility\", \"cargo_danger\", \"sea_route\",\n",
    "           \"wind_strength\", \"sea_state\", \"wind_direction\", \"target\"]\n",
    "df = pd.DataFrame(columns=columns)"
   ]
  },
  {
   "cell_type": "code",
   "execution_count": 7,
   "metadata": {},
   "outputs": [
    {
     "data": {
      "text/plain": [
       "(0, 19)"
      ]
     },
     "execution_count": 7,
     "metadata": {},
     "output_type": "execute_result"
    }
   ],
   "source": [
    "df.shape"
   ]
  },
  {
   "cell_type": "markdown",
   "metadata": {},
   "source": [
    "## Грузовые суда"
   ]
  },
  {
   "cell_type": "code",
   "execution_count": 8,
   "metadata": {},
   "outputs": [],
   "source": [
    "# AMIRA_MARYANA\n",
    "df = pd.concat([df, pd.DataFrame(generate_initial_data(vessel_title=\"AMIRA_MARYANA\", vessel_type=\"сухогруз\", L=175.53, B=29.4, d=10.1,\n",
    "                                                       DW=32029.0, speed=11.7,\n",
    "                                                       cargo_type=cargo_types_cargo_vessel,\n",
    "                                                       N=40),\n",
    "                                                       columns = df.columns)], ignore_index=True)\n",
    "\n",
    "# SERDOLIK\n",
    "df = pd.concat([df, pd.DataFrame(generate_initial_data(vessel_title=\"SERDOLIK\", vessel_type=\"сухогруз\", L=89.96, B=14.58, d=4.6,\n",
    "                                                       DW=5027.0, speed=9.0,\n",
    "                                                       cargo_type=cargo_types_cargo_vessel,\n",
    "                                                       N=40),\n",
    "                                                       columns = df.columns)], ignore_index=True)\n",
    "\n",
    "# DESPINA\n",
    "df = pd.concat([df, pd.DataFrame(generate_initial_data(vessel_title=\"DESPINA\", vessel_type=\"сухогруз\", L=224.94, B=32.26, d=7.0,\n",
    "                                                       DW=76633.0, speed=7.0,\n",
    "                                                       cargo_type=cargo_types_cargo_vessel,\n",
    "                                                       N=40),\n",
    "                                                       columns = df.columns)], ignore_index=True)\n",
    "\n",
    "# EDFU\n",
    "df = pd.concat([df, pd.DataFrame(generate_initial_data(vessel_title=\"EDFU\", vessel_type=\"сухогруз\", L=223.7, B=32.3, d=6.6,\n",
    "                                                       DW=71572.0, speed=11.6,\n",
    "                                                       cargo_type=cargo_types_cargo_vessel,\n",
    "                                                       N=40),\n",
    "                                                       columns = df.columns)], ignore_index=True)\n",
    "\n",
    "# GIVING\n",
    "df = pd.concat([df, pd.DataFrame(generate_initial_data(vessel_title=\"GIVING\", vessel_type=\"сухогруз\", L=189.6, B=30.5, d=8.5,\n",
    "                                                       DW=45428.0, speed=12.3,\n",
    "                                                       cargo_type=cargo_types_cargo_vessel,\n",
    "                                                       N=40),\n",
    "                                                       columns = df.columns)], ignore_index=True)\n",
    "\n",
    "# OSMAN_BEY\n",
    "df = pd.concat([df, pd.DataFrame(generate_initial_data(vessel_title=\"OSMAN_BEY\", vessel_type=\"сухогруз\", L=165.5, B=27.0, d=9.1,\n",
    "                                                       DW=27321.6, speed=8.5,\n",
    "                                                       cargo_type=cargo_types_cargo_vessel,\n",
    "                                                       N=40),\n",
    "                                                       columns = df.columns)], ignore_index=True)\n",
    "\n",
    "# TQ_TRABZON\n",
    "df = pd.concat([df, pd.DataFrame(generate_initial_data(vessel_title=\"TQ_TRABZON\", vessel_type=\"сухогруз\", L=87.89, B=12.8, d=6.0,\n",
    "                                                       DW=3729.0, speed=8.3,\n",
    "                                                       cargo_type=cargo_types_cargo_vessel,\n",
    "                                                       N=40),\n",
    "                                                       columns = df.columns)], ignore_index=True)\n",
    "\n",
    "# KURTULUS\n",
    "df = pd.concat([df, pd.DataFrame(generate_initial_data(vessel_title=\"KURTULUS\", vessel_type=\"сухогруз\", L=92.25, B=15.0, d=4.5,\n",
    "                                                       DW=5300.0, speed=9.0,\n",
    "                                                       cargo_type=cargo_types_cargo_vessel,\n",
    "                                                       N=40),\n",
    "                                                       columns = df.columns)], ignore_index=True)\n",
    "\n",
    "# AEOLIAN_FORTUNE\n",
    "df = pd.concat([df, pd.DataFrame(generate_initial_data(vessel_title=\"AEOLIAN_FORTUNE\", vessel_type=\"сухогруз\", L=228.99, B=32.26, d=7.2,\n",
    "                                                       DW=82099.3, speed=7.6,\n",
    "                                                       cargo_type=cargo_types_cargo_vessel,\n",
    "                                                       N=40),\n",
    "                                                       columns = df.columns)], ignore_index=True)\n",
    "\n",
    "# SERENITY_AC\n",
    "df = pd.concat([df, pd.DataFrame(generate_initial_data(vessel_title=\"SERENITY_AC\", vessel_type=\"сухогруз\", L=75.0, B=10.7, d=3.3,\n",
    "                                                       DW=1750.0, speed=8.2,\n",
    "                                                       cargo_type=cargo_types_cargo_vessel,\n",
    "                                                       N=40),\n",
    "                                                       columns = df.columns)], ignore_index=True)\n",
    "\n",
    "# KONYA\n",
    "df = pd.concat([df, pd.DataFrame(generate_initial_data(vessel_title=\"KONYA\", vessel_type=\"сухогруз\", L=199.99, B=32.26, d=7.4,\n",
    "                                                       DW=63200.0, speed=6.0,\n",
    "                                                       cargo_type=cargo_types_cargo_vessel,\n",
    "                                                       N=40),\n",
    "                                                       columns = df.columns)], ignore_index=True)\n",
    "\n",
    "# MSC_SAMANTHA_VI\n",
    "df = pd.concat([df, pd.DataFrame(generate_initial_data(vessel_title=\"MSC_SAMANTHA_VI\", vessel_type=\"сухогруз\", L=274.6, B=40.0, d=9.9,\n",
    "                                                       DW=77414.0, speed=13.1,\n",
    "                                                       cargo_type=cargo_types_cargo_vessel,\n",
    "                                                       N=40),\n",
    "                                                       columns = df.columns)], ignore_index=True)\n",
    "\n",
    "# PARIS_EXPRESS\n",
    "df = pd.concat([df, pd.DataFrame(generate_initial_data(vessel_title=\"PARIS_EXPRESS\", vessel_type=\"сухогруз\", L=366.06, B=48.23, d=14.1,\n",
    "                                                       DW=153514.0, speed=6.6,\n",
    "                                                       cargo_type=cargo_types_cargo_vessel,\n",
    "                                                       N=40),\n",
    "                                                       columns = df.columns)], ignore_index=True)\n",
    "\n",
    "# SIRAYA_WISDOM\n",
    "df = pd.concat([df, pd.DataFrame(generate_initial_data(vessel_title=\"SIRAYA_WISDOM\", vessel_type=\"сухогруз\", L=153.08, B=23.0, d=5.8,\n",
    "                                                       DW=21118.0, speed=10.1,\n",
    "                                                       cargo_type=cargo_types_cargo_vessel,\n",
    "                                                       N=40),\n",
    "                                                       columns = df.columns)], ignore_index=True)\n",
    "\n",
    "# AYATI\n",
    "df = pd.concat([df, pd.DataFrame(generate_initial_data(vessel_title=\"AYATI\", vessel_type=\"сухогруз\", L=178.04, B=28.0, d=5.4,\n",
    "                                                       DW=35366.0, speed=12.4,\n",
    "                                                       cargo_type=cargo_types_cargo_vessel,\n",
    "                                                       N=40),\n",
    "                                                       columns = df.columns)], ignore_index=True)"
   ]
  },
  {
   "cell_type": "code",
   "execution_count": 9,
   "metadata": {},
   "outputs": [
    {
     "data": {
      "text/plain": [
       "(600, 19)"
      ]
     },
     "execution_count": 9,
     "metadata": {},
     "output_type": "execute_result"
    }
   ],
   "source": [
    "df.shape"
   ]
  },
  {
   "cell_type": "markdown",
   "metadata": {},
   "source": [
    "## Танкеры"
   ]
  },
  {
   "cell_type": "code",
   "execution_count": 10,
   "metadata": {},
   "outputs": [],
   "source": [
    "# MERA\n",
    "df = pd.concat([df, pd.DataFrame(generate_initial_data(vessel_title=\"MERA\", vessel_type=\"танкер\", L=117.0, B=16.4, d=6.9,\n",
    "                                                       DW=7014.0, speed=10.9,\n",
    "                                                       cargo_type=cargo_types_tanker,\n",
    "                                                       N=40),\n",
    "                                                       columns = df.columns)], ignore_index=True)\n",
    "\n",
    "# CONSTELLATION\n",
    "df = pd.concat([df, pd.DataFrame(generate_initial_data(vessel_title=\"CONSTELLATION\", vessel_type=\"танкер\", L=228.6, B=32.57, d=8.0,\n",
    "                                                       DW=73917.0, speed=7.4,\n",
    "                                                       cargo_type=cargo_types_tanker,\n",
    "                                                       N=40),\n",
    "                                                       columns = df.columns)], ignore_index=True)\n",
    "\n",
    "# STI_ROTHERHITHE\n",
    "df = pd.concat([df, pd.DataFrame(generate_initial_data(vessel_title=\"STI_ROTHERHITHE\", vessel_type=\"танкер\", L=184.0, B=27.4, d=7.2,\n",
    "                                                       DW=38734.0, speed=12.1,\n",
    "                                                       cargo_type=cargo_types_tanker,\n",
    "                                                       N=40),\n",
    "                                                       columns = df.columns)], ignore_index=True)\n",
    "\n",
    "# VOLGONEFT_147\n",
    "df = pd.concat([df, pd.DataFrame(generate_initial_data(vessel_title=\"VOLGONEFT_147\", vessel_type=\"танкер\", L=132.6, B=16.9, d=2.8,\n",
    "                                                       DW=4626.0, speed=7.0,\n",
    "                                                       cargo_type=cargo_types_tanker,\n",
    "                                                       N=40),\n",
    "                                                       columns = df.columns)], ignore_index=True)\n",
    "\n",
    "# BALT_FLOT_18\n",
    "df = pd.concat([df, pd.DataFrame(generate_initial_data(vessel_title=\"BALT_FLOT_18\", vessel_type=\"танкер\", L=140.85, B=16.86, d=3.3,\n",
    "                                                       DW=7900.0, speed=8.7,\n",
    "                                                       cargo_type=cargo_types_tanker,\n",
    "                                                       N=40),\n",
    "                                                       columns = df.columns)], ignore_index=True)\n",
    "\n",
    "# NAUTILUS\n",
    "df = pd.concat([df, pd.DataFrame(generate_initial_data(vessel_title=\"NAUTILUS\", vessel_type=\"танкер\", L=243.0, B=42.03, d=9.3,\n",
    "                                                       DW=108835.0, speed=6.1,\n",
    "                                                       cargo_type=cargo_types_tanker,\n",
    "                                                       N=40),\n",
    "                                                       columns = df.columns)], ignore_index=True)\n",
    "\n",
    "# BELGRAVIA_V\n",
    "df = pd.concat([df, pd.DataFrame(generate_initial_data(vessel_title=\"BELGRAVIA_V\", vessel_type=\"танкер\", L=119.8, B=19.0, d=6.9,\n",
    "                                                       DW=9127.0, speed=11.4,\n",
    "                                                       cargo_type=cargo_types_tanker,\n",
    "                                                       N=40),\n",
    "                                                       columns = df.columns)], ignore_index=True)\n",
    "\n",
    "# GANJA\n",
    "df = pd.concat([df, pd.DataFrame(generate_initial_data(vessel_title=\"GANJA\", vessel_type=\"танкер\", L=140.85, B=16.86, d=4.2,\n",
    "                                                       DW=7017.0, speed=7.0,\n",
    "                                                       cargo_type=cargo_types_tanker,\n",
    "                                                       N=40),\n",
    "                                                       columns = df.columns)], ignore_index=True)\n",
    "\n",
    "# NEVSKIY_PROSPECT\n",
    "df = pd.concat([df, pd.DataFrame(generate_initial_data(vessel_title=\"NEVSKIY_PROSPECT\", vessel_type=\"танкер\", L=249.9, B=44.0, d=4.7,\n",
    "                                                       DW=114598.0, speed=5.5,\n",
    "                                                       cargo_type=cargo_types_tanker,\n",
    "                                                       N=40),\n",
    "                                                       columns = df.columns)], ignore_index=True)\n",
    "\n",
    "# ARGOLIS\n",
    "df = pd.concat([df, pd.DataFrame(generate_initial_data(vessel_title=\"ARGOLIS\", vessel_type=\"танкер\", L=175.0, B=31.0, d=7.7,\n",
    "                                                       DW=40083.0, speed=8.8,\n",
    "                                                       cargo_type=cargo_types_tanker,\n",
    "                                                       N=40),\n",
    "                                                       columns = df.columns)], ignore_index=True)\n",
    "\n",
    "# ICE_HAWK\n",
    "df = pd.concat([df, pd.DataFrame(generate_initial_data(vessel_title=\"ICE_HAWK\", vessel_type=\"танкер\", L=145.88, B=22.5, d=8.7,\n",
    "                                                       DW=15441.0, speed=9.7,\n",
    "                                                       cargo_type=cargo_types_tanker,\n",
    "                                                       N=40),\n",
    "                                                       columns = df.columns)], ignore_index=True)\n",
    "\n",
    "# GIUSE\n",
    "df = pd.concat([df, pd.DataFrame(generate_initial_data(vessel_title=\"GIUSE\", vessel_type=\"танкер\", L=244.6, B=42.03, d=11.1,\n",
    "                                                       DW=109390.0, speed=9.4,\n",
    "                                                       cargo_type=cargo_types_tanker,\n",
    "                                                       N=40),\n",
    "                                                       columns = df.columns)], ignore_index=True)\n",
    "\n",
    "# WALER\n",
    "df = pd.concat([df, pd.DataFrame(generate_initial_data(vessel_title=\"WALER\", vessel_type=\"танкер\", L=101.39, B=19.05, d=5.8,\n",
    "                                                       DW=7279.0, speed=8.3,\n",
    "                                                       cargo_type=cargo_types_tanker,\n",
    "                                                       N=40),\n",
    "                                                       columns = df.columns)], ignore_index=True)\n",
    "\n",
    "# SWIFTSEA_RIDER\n",
    "df = pd.concat([df, pd.DataFrame(generate_initial_data(vessel_title=\"SWIFTSEA_RIDER\", vessel_type=\"танкер\", L=281.0, B=48.2, d=14.7,\n",
    "                                                       DW=166188.0, speed=8.4,\n",
    "                                                       cargo_type=cargo_types_tanker,\n",
    "                                                       N=40),\n",
    "                                                       columns = df.columns)], ignore_index=True)\n",
    "\n",
    "# ELEGANCE\n",
    "df = pd.concat([df, pd.DataFrame(generate_initial_data(vessel_title=\"ELEGANCE\", vessel_type=\"танкер\", L=243.8, B=42.0, d=14.7,\n",
    "                                                       DW=115098.0, speed=10.4,\n",
    "                                                       cargo_type=cargo_types_tanker,\n",
    "                                                       N=40),\n",
    "                                                       columns = df.columns)], ignore_index=True)"
   ]
  },
  {
   "cell_type": "code",
   "execution_count": 11,
   "metadata": {},
   "outputs": [
    {
     "data": {
      "text/plain": [
       "(1200, 19)"
      ]
     },
     "execution_count": 11,
     "metadata": {},
     "output_type": "execute_result"
    }
   ],
   "source": [
    "df.shape"
   ]
  },
  {
   "cell_type": "markdown",
   "metadata": {},
   "source": [
    "# Заполнение пропущенных значений в переменных\n",
    "**Переменные**:\n",
    "- cargo_danger\n",
    "- cost_per_mile\n",
    "- target"
   ]
  },
  {
   "cell_type": "markdown",
   "metadata": {},
   "source": [
    "## Логика формирования переменной cargo_danger\n",
    "cargo_danger - класс опасности груза  \n",
    "  \n",
    "Классы опасности груза:\n",
    "- Класс 1 - взрывчатые вещества;\n",
    "- Класс 2 - газы;\n",
    "- Класс 3 - легковоспламеняющиеся жидкости;\n",
    "- Класс 4 - легковоспламеняющиеся твердые вещества;\n",
    "- Класс 5 - окисляющие вещества;\n",
    "- Класс 6 - токсические вещества;\n",
    "- Класс 7 - радиоактивные материалы;\n",
    "- Класс 8 - коррозионные вещества;\n",
    "- Класс 9 - прочие опасные вещества;"
   ]
  },
  {
   "cell_type": "code",
   "execution_count": 4,
   "metadata": {},
   "outputs": [],
   "source": [
    "def set_danger_class(col: pd.Series) -> pd.Series:\n",
    "    \"\"\"\n",
    "    Функция присваивает класс опасности грузу в зависимости от его типа\n",
    "    \n",
    "    ----\n",
    "    Вход:\n",
    "        col - тип груза в виде pd.Series\n",
    "    \n",
    "    ----\n",
    "    Выход:\n",
    "        pd.Series с классами опасности груза для каждого примера\n",
    "    \"\"\"\n",
    "    if col in [\"бобовые\", \"рыба\", \"зерно\", \"мебель\", \"бумага\", \"мука\", \"песок\", \"пищевые грузы\", \"руда\"]:\n",
    "        return 0\n",
    "    # elif col in []:\n",
    "    #     return 1\n",
    "    elif col in [\"аммиак\", \"сжиженные углеводородные газы\", \"природный газ\"]:\n",
    "        return 2\n",
    "    elif col in [\"метанол\", \"сырая нефть\", \"нефтепродукты\", \"спирт\", \"расплавленный камень\"]:\n",
    "        return 3\n",
    "    elif col in [\"текстиль\", \"хлопок\"]:\n",
    "        return 4\n",
    "    # elif col in [\"\"]:\n",
    "    #     return 5\n",
    "    elif col in [\"химические грузы\"]:\n",
    "        return 6\n",
    "    # elif col in [\"\"]:\n",
    "    #     return 7\n",
    "    elif col in [\"металлоконструкции\"]:\n",
    "        return 8\n",
    "    elif col in [\"бытовая техника\", \"автомобили\", \"стройматериалы\"]:\n",
    "        return 9\n",
    "    else:\n",
    "        return 0"
   ]
  },
  {
   "cell_type": "code",
   "execution_count": 10,
   "metadata": {},
   "outputs": [],
   "source": [
    "df[\"cargo_danger\"] = df.cargo_type.apply(set_danger_class)"
   ]
  },
  {
   "cell_type": "code",
   "execution_count": 12,
   "metadata": {},
   "outputs": [
    {
     "data": {
      "text/plain": [
       "0    358\n",
       "3    333\n",
       "2    173\n",
       "9    140\n",
       "4    107\n",
       "6     47\n",
       "8     42\n",
       "Name: cargo_danger, dtype: int64"
      ]
     },
     "execution_count": 12,
     "metadata": {},
     "output_type": "execute_result"
    }
   ],
   "source": [
    "df.cargo_danger.value_counts()"
   ]
  },
  {
   "cell_type": "markdown",
   "metadata": {},
   "source": [
    "## Логика формирования переменной cost_per_mile\n",
    "cost_per_mile - стоимость транспортировки 1 т. груза на 1 милю"
   ]
  },
  {
   "cell_type": "markdown",
   "metadata": {},
   "source": [
    "Логика формирования переменной:  \n",
    "$cost\\_per\\_mile$ = $(cargo\\_amount \\ / \\ sea\\_route) \\times (cargo\\_demand \\ + \\ cargo\\_value \\ + \\  cargo\\_fragility \\ + \\ cargo\\_danger)$"
   ]
  },
  {
   "cell_type": "code",
   "execution_count": 3,
   "metadata": {},
   "outputs": [],
   "source": [
    "# Поправляющие коэффициенты в формуле\n",
    "cargo_demand_koef_list = np.where(df.cargo_demand == \"маленький\", 0, 1)\n",
    "cargo_value_koef_list = np.select([df.cargo_value == \"обычный\", df.cargo_value == \"ценный\", df.cargo_value == \"очень ценный\"], [0, 1, 2])\n",
    "cargo_fragility_koef_list = np.where(df.cargo_fragility == \"не хрупкий\", 0, 1)\n",
    "cargo_danger_koef_list = np.where(df.cargo_danger == 0, 0, 1)"
   ]
  },
  {
   "cell_type": "code",
   "execution_count": 4,
   "metadata": {},
   "outputs": [],
   "source": [
    "def cost_per_mile_func(df: pd.DataFrame, cargo_demand_koef_list = cargo_demand_koef_list,\n",
    "                       cargo_value_koef_list = cargo_value_koef_list,\n",
    "                       cargo_fragility_koef_list = cargo_fragility_koef_list,\n",
    "                       cargo_danger_koef_list = cargo_danger_koef_list):\n",
    "    \"\"\"\n",
    "    Функция расчета стоимости транспортировки 1 т. груза за 1 милю\n",
    "    \n",
    "    ----\n",
    "    Вход:\n",
    "        df - Таблица данных рейсов судов \\n\n",
    "        cargo_demand_koef_list - коэффициент, учитывающий влияние величины спроса на товар (груз) \\n\n",
    "        cargo_value_koef_list - коэффициент, учитывающий влияние ценности груза \\n\n",
    "        cargo_fragility_koef_list - коэффициент, учитывающий влияние хрупкость груза \\n\n",
    "        cargo_danger_koef_list - коэффициент, учитывающий влияние класса опасности груза \\n\n",
    "\n",
    "    ----\n",
    "    Выход:\n",
    "        pd.Series - стоимость транспортировки 1 т. груза за 1 милю\n",
    "    \"\"\"\n",
    "    part_1 = np.array(df.cargo_amount / df.sea_route)\n",
    "    part_2 = np.array(cargo_demand_koef_list + cargo_value_koef_list + cargo_fragility_koef_list + cargo_danger_koef_list)\n",
    "    \n",
    "    return pd.Series(part_1 * part_2).astype(float).round(2)"
   ]
  },
  {
   "cell_type": "code",
   "execution_count": 5,
   "metadata": {},
   "outputs": [],
   "source": [
    "df['cost_per_mile'] = cost_per_mile_func(df)"
   ]
  },
  {
   "cell_type": "code",
   "execution_count": 6,
   "metadata": {},
   "outputs": [
    {
     "data": {
      "text/plain": [
       "0"
      ]
     },
     "execution_count": 6,
     "metadata": {},
     "output_type": "execute_result"
    }
   ],
   "source": [
    "df[df[\"cost_per_mile\"].isna() == True].count()[0]"
   ]
  },
  {
   "cell_type": "markdown",
   "metadata": {},
   "source": [
    "## Логика формирования переменной target\n",
    "target - полная стоимость транспортировки груза  \n",
    "  \n",
    "Логика формирования $target$ = $cost\\_per\\_mile \\times sea\\_route$"
   ]
  },
  {
   "cell_type": "code",
   "execution_count": 7,
   "metadata": {},
   "outputs": [],
   "source": [
    "df[\"target\"] = df.apply(lambda x: x.cost_per_mile * x.sea_route,\n",
    "                        axis=1)"
   ]
  },
  {
   "cell_type": "code",
   "execution_count": 8,
   "metadata": {},
   "outputs": [
    {
     "data": {
      "text/plain": [
       "0"
      ]
     },
     "execution_count": 8,
     "metadata": {},
     "output_type": "execute_result"
    }
   ],
   "source": [
    "df[df[\"target\"].isna() == True].count()[0]"
   ]
  },
  {
   "cell_type": "markdown",
   "metadata": {},
   "source": [
    "# Доступ к данным"
   ]
  },
  {
   "cell_type": "code",
   "execution_count": 9,
   "metadata": {},
   "outputs": [
    {
     "data": {
      "text/html": [
       "<div>\n",
       "<style scoped>\n",
       "    .dataframe tbody tr th:only-of-type {\n",
       "        vertical-align: middle;\n",
       "    }\n",
       "\n",
       "    .dataframe tbody tr th {\n",
       "        vertical-align: top;\n",
       "    }\n",
       "\n",
       "    .dataframe thead th {\n",
       "        text-align: right;\n",
       "    }\n",
       "</style>\n",
       "<table border=\"1\" class=\"dataframe\">\n",
       "  <thead>\n",
       "    <tr style=\"text-align: right;\">\n",
       "      <th></th>\n",
       "      <th>vessel_title</th>\n",
       "      <th>vessel_type</th>\n",
       "      <th>L</th>\n",
       "      <th>B</th>\n",
       "      <th>d</th>\n",
       "      <th>DW</th>\n",
       "      <th>speed</th>\n",
       "      <th>cargo_type</th>\n",
       "      <th>cargo_amount</th>\n",
       "      <th>cost_per_mile</th>\n",
       "      <th>cargo_demand</th>\n",
       "      <th>cargo_value</th>\n",
       "      <th>cargo_fragility</th>\n",
       "      <th>cargo_danger</th>\n",
       "      <th>sea_route</th>\n",
       "      <th>wind_strength</th>\n",
       "      <th>sea_state</th>\n",
       "      <th>wind_direction</th>\n",
       "      <th>target</th>\n",
       "    </tr>\n",
       "  </thead>\n",
       "  <tbody>\n",
       "    <tr>\n",
       "      <th>0</th>\n",
       "      <td>AMIRA_MARYANA</td>\n",
       "      <td>сухогруз</td>\n",
       "      <td>175.53</td>\n",
       "      <td>29.4</td>\n",
       "      <td>10.1</td>\n",
       "      <td>32029.0</td>\n",
       "      <td>11.7</td>\n",
       "      <td>бобовые</td>\n",
       "      <td>2181.0</td>\n",
       "      <td>2.47</td>\n",
       "      <td>маленький</td>\n",
       "      <td>ценный</td>\n",
       "      <td>хрупкий</td>\n",
       "      <td>0</td>\n",
       "      <td>1763</td>\n",
       "      <td>умеренный ветер</td>\n",
       "      <td>очень слабое</td>\n",
       "      <td>В</td>\n",
       "      <td>4354.61</td>\n",
       "    </tr>\n",
       "    <tr>\n",
       "      <th>1</th>\n",
       "      <td>AMIRA_MARYANA</td>\n",
       "      <td>сухогруз</td>\n",
       "      <td>175.53</td>\n",
       "      <td>29.4</td>\n",
       "      <td>10.1</td>\n",
       "      <td>32029.0</td>\n",
       "      <td>12.7</td>\n",
       "      <td>бытовая техника</td>\n",
       "      <td>615.0</td>\n",
       "      <td>0.60</td>\n",
       "      <td>большой</td>\n",
       "      <td>очень ценный</td>\n",
       "      <td>не хрупкий</td>\n",
       "      <td>9</td>\n",
       "      <td>4083</td>\n",
       "      <td>шторм</td>\n",
       "      <td>очень бурное</td>\n",
       "      <td>З</td>\n",
       "      <td>2449.80</td>\n",
       "    </tr>\n",
       "    <tr>\n",
       "      <th>2</th>\n",
       "      <td>AMIRA_MARYANA</td>\n",
       "      <td>сухогруз</td>\n",
       "      <td>175.53</td>\n",
       "      <td>29.4</td>\n",
       "      <td>10.1</td>\n",
       "      <td>32029.0</td>\n",
       "      <td>12.6</td>\n",
       "      <td>автомобили</td>\n",
       "      <td>2641.0</td>\n",
       "      <td>1.66</td>\n",
       "      <td>большой</td>\n",
       "      <td>обычный</td>\n",
       "      <td>хрупкий</td>\n",
       "      <td>9</td>\n",
       "      <td>4759</td>\n",
       "      <td>легкий ветер</td>\n",
       "      <td>полный штиль</td>\n",
       "      <td>З</td>\n",
       "      <td>7899.94</td>\n",
       "    </tr>\n",
       "  </tbody>\n",
       "</table>\n",
       "</div>"
      ],
      "text/plain": [
       "    vessel_title vessel_type       L     B     d       DW  speed  \\\n",
       "0  AMIRA_MARYANA    сухогруз  175.53  29.4  10.1  32029.0   11.7   \n",
       "1  AMIRA_MARYANA    сухогруз  175.53  29.4  10.1  32029.0   12.7   \n",
       "2  AMIRA_MARYANA    сухогруз  175.53  29.4  10.1  32029.0   12.6   \n",
       "\n",
       "        cargo_type  cargo_amount  cost_per_mile cargo_demand   cargo_value  \\\n",
       "0          бобовые        2181.0           2.47    маленький        ценный   \n",
       "1  бытовая техника         615.0           0.60      большой  очень ценный   \n",
       "2       автомобили        2641.0           1.66      большой       обычный   \n",
       "\n",
       "  cargo_fragility  cargo_danger sea_route    wind_strength     sea_state  \\\n",
       "0         хрупкий             0      1763  умеренный ветер  очень слабое   \n",
       "1      не хрупкий             9      4083            шторм  очень бурное   \n",
       "2         хрупкий             9      4759     легкий ветер  полный штиль   \n",
       "\n",
       "  wind_direction   target  \n",
       "0              В  4354.61  \n",
       "1              З  2449.80  \n",
       "2              З  7899.94  "
      ]
     },
     "execution_count": 9,
     "metadata": {},
     "output_type": "execute_result"
    }
   ],
   "source": [
    "df.head(3)"
   ]
  },
  {
   "cell_type": "code",
   "execution_count": 10,
   "metadata": {},
   "outputs": [
    {
     "data": {
      "text/plain": [
       "vessel_title        object\n",
       "vessel_type         object\n",
       "L                  float64\n",
       "B                  float64\n",
       "d                  float64\n",
       "DW                 float64\n",
       "speed              float64\n",
       "cargo_type          object\n",
       "cargo_amount       float64\n",
       "cost_per_mile      float64\n",
       "cargo_demand        object\n",
       "cargo_value         object\n",
       "cargo_fragility     object\n",
       "cargo_danger         int64\n",
       "sea_route           object\n",
       "wind_strength       object\n",
       "sea_state           object\n",
       "wind_direction      object\n",
       "target             float64\n",
       "dtype: object"
      ]
     },
     "execution_count": 10,
     "metadata": {},
     "output_type": "execute_result"
    }
   ],
   "source": [
    "df.dtypes"
   ]
  },
  {
   "cell_type": "markdown",
   "metadata": {},
   "source": [
    "## Сохранение"
   ]
  },
  {
   "cell_type": "code",
   "execution_count": 11,
   "metadata": {},
   "outputs": [],
   "source": [
    "# Сохранение данных в формат \"pickle\"\n",
    "df.to_pickle(\"../Data/ship_voyages.pkl\")"
   ]
  },
  {
   "cell_type": "code",
   "execution_count": 12,
   "metadata": {},
   "outputs": [],
   "source": [
    "# Сохранение данных в формат \"csv\"\n",
    "df.to_csv(\"../Data/ship_voyages.csv\")"
   ]
  },
  {
   "cell_type": "markdown",
   "metadata": {},
   "source": [
    "## Загрузка"
   ]
  },
  {
   "cell_type": "code",
   "execution_count": 2,
   "metadata": {},
   "outputs": [],
   "source": [
    "# Загрузка данных в формате \"pickle\"\n",
    "df = pd.read_pickle(\"../Data/ship_voyages.pkl\")"
   ]
  },
  {
   "cell_type": "code",
   "execution_count": null,
   "metadata": {},
   "outputs": [],
   "source": [
    "# Загрузка данных в формате \"csv\"\n",
    "df = pd.read_csv(\"../Data/ship_voyages.csv\", index_col=0)"
   ]
  }
 ],
 "metadata": {
  "kernelspec": {
   "display_name": "Python 3",
   "language": "python",
   "name": "python3"
  },
  "language_info": {
   "codemirror_mode": {
    "name": "ipython",
    "version": 3
   },
   "file_extension": ".py",
   "mimetype": "text/x-python",
   "name": "python",
   "nbconvert_exporter": "python",
   "pygments_lexer": "ipython3",
   "version": "3.10.5"
  }
 },
 "nbformat": 4,
 "nbformat_minor": 2
}
