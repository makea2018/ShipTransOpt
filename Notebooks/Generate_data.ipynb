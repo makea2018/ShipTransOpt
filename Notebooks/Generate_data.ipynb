{
 "cells": [
  {
   "cell_type": "markdown",
   "metadata": {},
   "source": [
    "# Импорт библиотек"
   ]
  },
  {
   "cell_type": "code",
   "execution_count": 2,
   "metadata": {},
   "outputs": [],
   "source": [
    "import pandas as pd\n",
    "import numpy as np\n",
    "import matplotlib.pyplot as plt\n",
    "from numpy import nan\n",
    "from typing import List"
   ]
  },
  {
   "cell_type": "markdown",
   "metadata": {},
   "source": [
    "## Константные переменные"
   ]
  },
  {
   "cell_type": "code",
   "execution_count": 3,
   "metadata": {},
   "outputs": [],
   "source": [
    "# Спрос на товар\n",
    "cargo_demand = [\"маленький\", \"большой\"]\n",
    "# Ценность товара\n",
    "cargo_value = [\"обычный\", \"ценный\", \"очень ценный\"]\n",
    "# Хрупкость товара\n",
    "cargo_fragility = [\"не хрупкий\", \"хрупкий\"]\n",
    "# Сила ветра\n",
    "wind_strength = [\"штиль\", \"тихий ветер\", \"легкий ветер\", \"слабый ветер\",\n",
    "                 \"умеренный ветер\", \"свежий ветер\", \"сильный ветер\",\n",
    "                 \"крепкий ветер\", \"очень крепкий ветер\", \"шторм\",\n",
    "                 \"сильный шторм\", \"жестокий шторм\", \"ураган\"]\n",
    "# Сила волнения\n",
    "sea_state = [\"полный штиль\", \"штиль\", \"очень слабое\", \"слабое\",\n",
    "             \"умеренное\", \"значительное\", \"очень бурное\", \"сильное\",\n",
    "             \"очень сильное\", \"исключительное\"]\n",
    "# Направление ветра\n",
    "wind_direction = [\"С\", \"Ю\", \"З\", \"В\"]\n",
    "# Природные катаклизмы\n",
    "natural_disaster = [\"нет\", \"наводнение\", \"цунами\", \"землетрясение\", \"торнадо\"]"
   ]
  },
  {
   "cell_type": "markdown",
   "metadata": {},
   "source": [
    "## Важные функции"
   ]
  },
  {
   "cell_type": "code",
   "execution_count": 48,
   "metadata": {},
   "outputs": [],
   "source": [
    "# Функция для генерации initial_data для одного конкретного судна\n",
    "def generate_initial_data(vessel_type: str, L: float, B: float,\n",
    "                          d: float, DW: float, speed: float,\n",
    "                          cargo_type: List[str], cargo_demand: List[str] = cargo_demand,\n",
    "                          cargo_value: List[str] = cargo_value, cargo_fragility: List[str] = cargo_fragility,\n",
    "                          cargo_danger: str = nan, wind_strength: List[str] = wind_strength,\n",
    "                          sea_state: List[str] = sea_state, wind_direction: List[str] = wind_direction, natural_disaster:List[str] = natural_disaster,\n",
    "                          N: int = 5):\n",
    "    \"\"\"\n",
    "    Функция генерирует начальные примеры рейсов для уникального судна\n",
    "\n",
    "    ----\n",
    "    Вход:\n",
    "        vessel_type - тип судна \\n\n",
    "        L - длина судна, м \\n\n",
    "        B - ширина судна, м \\n\n",
    "        d - осадка судна, м \\n\n",
    "        DW - дедвейт судна, т \\n\n",
    "        speed - скорость судна, уз \\n\n",
    "        cargo_type - тип груза \\n\n",
    "        cargo_demand - спрос на товар \\n\n",
    "        cargo_value - ценность груза \\n\n",
    "        cargo_fragility - хрупкость груза \\n\n",
    "        cargo_danger - опасность груза \\n\n",
    "        wind_strength - сила ветра, балл \\n\n",
    "        sea_state - степень волнения моря, балл \\n\n",
    "        wind_direction - направление ветра \\n\n",
    "        natural_disaster - природные катаклизмы \\n\n",
    "        N - количество примеров для генерации \\n\n",
    "\n",
    "    ----\n",
    "    Выход:\n",
    "        список сгенерированных примеров для одного уникального судна\n",
    "    \"\"\"\n",
    "    # Массив, в котором хранятся все сгенерированные данные\n",
    "    generated_data = []\n",
    "\n",
    "    # Генерация кол-ва примеров (N)\n",
    "    for i in range(1, N + 1):\n",
    "        # Генерация типа груза на судне\n",
    "        cargo_type_ = np.random.choice(cargo_type)\n",
    "        # Генерация количества груза\n",
    "        cargo_amount = float(np.random.randint(1, 0.1 * DW))\n",
    "        # Генерация спроса на товар\n",
    "        cargo_demand_ = np.random.choice(cargo_demand)\n",
    "        # Генерация ценности груза\n",
    "        cargo_value_ = np.random.choice(cargo_value)\n",
    "        # Генерация хрупкости груза\n",
    "        cargo_fragility_ = np.random.choice(cargo_fragility)\n",
    "        # Генерация протяженности маршрута судна\n",
    "        sea_route = np.random.randint(500, 9000)\n",
    "        # Генерация силы ветра\n",
    "        wind_strength_ = np.random.choice(wind_strength)\n",
    "        # Генерация силы волнения\n",
    "        sea_state_ = np.random.choice(sea_state)\n",
    "        # Генерация направления ветра\n",
    "        wind_direction_ = np.random.choice(wind_direction)\n",
    "        # Генерация силы волнения\n",
    "        wind_direction_ = np.random.choice(wind_direction)\n",
    "        # Генерация природных катаклизмов\n",
    "        natural_disaster_ = np.random.choice(natural_disaster, p=[0.95, 0.0125, 0.0125, 0.0125, 0.0125])\n",
    "\n",
    "        if i == 1:\n",
    "            # Базовый пример\n",
    "            new_example = [vessel_type, L, B, d, DW, speed, cargo_type_,\n",
    "                           cargo_amount, nan, cargo_demand_, cargo_value_,\n",
    "                           cargo_fragility_, cargo_danger, sea_route,\n",
    "                           wind_strength_, sea_state_, wind_direction_,\n",
    "                           natural_disaster_, nan]\n",
    "        else:\n",
    "            # Генерация скорости судна\n",
    "            speed_ = (np.random.uniform(speed - 1.5, speed + 1.5, 1).round(1))[0]\n",
    "            new_example = [vessel_type, L, B, d, DW, speed_, cargo_type_,\n",
    "                           cargo_amount, nan, cargo_demand_, cargo_value_,\n",
    "                           cargo_fragility_, cargo_danger, sea_route,\n",
    "                           wind_strength_, sea_state_, wind_direction_,\n",
    "                           natural_disaster_, nan]\n",
    "        \n",
    "        # Добавляем сгенерированные данные в массив\n",
    "        generated_data.append(new_example)\n",
    "\n",
    "    return generated_data"
   ]
  },
  {
   "cell_type": "code",
   "execution_count": 60,
   "metadata": {},
   "outputs": [
    {
     "name": "stdout",
     "output_type": "stream",
     "text": [
      "['сухогруз', 100, 12, 6.4, 12000, 7.6, 'бытовая техника', 397.0, nan, 'большой', 'очень ценный', 'не хрупкий', nan, 3689, 'жестокий шторм', 'исключительное', 'С', 'нет', nan]\n",
      "['сухогруз', 100, 12, 6.4, 12000, 6.8, 'мебель', 38.0, nan, 'маленький', 'ценный', 'хрупкий', nan, 7724, 'сильный шторм', 'очень слабое', 'Ю', 'нет', nan]\n",
      "['сухогруз', 100, 12, 6.4, 12000, 6.2, 'мебель', 792.0, nan, 'маленький', 'очень ценный', 'хрупкий', nan, 1263, 'штиль', 'значительное', 'Ю', 'нет', nan]\n"
     ]
    }
   ],
   "source": [
    "# Пример работы функции для генерации данных\n",
    "for i in generate_initial_data(vessel_type=\"сухогруз\", L=100, B=12, d=6.4, DW=12000, speed=7.6,\n",
    "                               cargo_type=[\"бытовая техника\", \"мебель\"], N=3):\n",
    "    print(i)"
   ]
  },
  {
   "cell_type": "markdown",
   "metadata": {},
   "source": [
    "# Генерация данных"
   ]
  },
  {
   "cell_type": "markdown",
   "metadata": {},
   "source": [
    "Данные описывают рейсы судов, в которых указана основная информация о судне, перевозимом грузе, детали маршрута, погодные условия.  \n",
    "хрупкость груза\n",
    "Данные содержат в себе следующие переменные:\n",
    "- vessel_type - тип судна (класс);\n",
    "- L - длина судна, м;\n",
    "- B - ширина судна, м;\n",
    "- d - осадка судна, м;\n",
    "- DW - дедвейт судна, т;\n",
    "- speed - скорость судна, узлы;\n",
    "- cargo_type - тип груза;\n",
    "- cargo_amount - количество груза, т;\n",
    "- cost_per_mile - стоимость транспортировки 1 т. товара / 1 милю;\n",
    "- cargo_demand - спрос на товар;\n",
    "- cargo_value - ценность груза;\n",
    "- cargo_fragility - хрупкость груза;\n",
    "- cargo_danger - опасность груза (химикаты, ядовитые вещества, горючие вещества, взрывоопасные вещества);\n",
    "- sea_route - маршрут судна, кол-во миль;\n",
    "- wind_strength - сила ветра, балл;\n",
    "- sea_state - степень волнения моря, балл;\n",
    "- wind_direction - направление ветра;\n",
    "- natural_disaster - природные катаклизмы (цунами, землетрясение, наводнение, торнадо);\n",
    "- target - стоимость транспортировки груза, доллар ($)."
   ]
  },
  {
   "cell_type": "code",
   "execution_count": 3,
   "metadata": {},
   "outputs": [],
   "source": [
    "# Формирование датафрейма\n",
    "columns = [\"vessel_type\", \"L\", \"B\", \"d\", \"DW\", \"speed\", \"cargo_type\",\n",
    "           \"cargo_amount\", \"cost_per_mile\", \"cargo_demand\",\n",
    "           \"cargo_value\", \"cargo_fragility\", \"cargo_danger\", \"sea_route\",\n",
    "           \"wind_strength\", \"sea_state\", \"wind_direction\", \"natural_disaster\",\n",
    "           \"target\"]\n",
    "df = pd.DataFrame(columns=columns)"
   ]
  },
  {
   "cell_type": "markdown",
   "metadata": {},
   "source": [
    "## Грузовые суда"
   ]
  },
  {
   "cell_type": "code",
   "execution_count": 4,
   "metadata": {},
   "outputs": [],
   "source": [
    "# 1-ое\n",
    "AMIRA_MARYANA = [\n",
    "    [\"cargo vessel\", 175.53, 29.4, 10.1, 32029.0, 11.7, \"appliances\", 10.0, 3.2] + [nan] * (df.shape[1] - 9)\n",
    "]\n",
    "\n",
    "# 2-ое\n",
    "SERDOLIK = [\n",
    "    [\"cargo vessel\", 89.96, 14.58, 4.6, 5027.0, 9.0, \"furniture\", 5.6, 1.7] + [nan] * (df.shape[1] - 9)\n",
    "]\n",
    "\n",
    "# 3-ое\n",
    "DESPINA = [\n",
    "    [\"cargo vessel\", 224.94, 32.26, 7.0, 76633.0, 7.0, \"furniture\", 12.1, 3.3] + [nan] * (df.shape[1] - 9)\n",
    "]\n",
    "\n",
    "# 4-ое\n",
    "EDFU = [\n",
    "    [\"cargo vessel\", 223.7, 32.3, 6.6, 71572.0, 11.6, \"appliances\", 5.4, 2.6] + [nan] * (df.shape[1] - 9)\n",
    "]\n",
    "\n",
    "# 5-ое\n",
    "GIVING = [\n",
    "    [\"cargo vessel\", 189.6, 30.5, 8.5, 45428.0, 12.3, \"appliances\", 6.78, 4.71] + [nan] * (df.shape[1] - 9)\n",
    "]\n",
    "# 6-ое\n",
    "OSMAN_BEY = [\n",
    "    [\"cargo vessel\", 165.5, 27.0, 9.1, 27321.6, 8.5, \"furniture\", 3.15, 0.9] + [nan] * (df.shape[1] - 9)\n",
    "]\n",
    "\n",
    "# 7-ое\n",
    "TQ_TRABZON = [\n",
    "    [\"cargo vessel\", 87.89, 12.8, 6.0, 3729.0, 8.3, \"appliances\", 4.23, 1.56] + [nan] * (df.shape[1] - 9)\n",
    "]\n",
    "\n",
    "# 8-ое\n",
    "KURTULUS = [\n",
    "    [\"cargo vessel\", 92.25, 15, 4.5, 5300.0, 9.0, \"appliances\", 3.78, 1.3] + [nan] * (df.shape[1] - 9)\n",
    "]\n",
    "\n",
    "# 9-ое\n",
    "AEOLIAN_FORTUNE = [\n",
    "    [\"cargo vessel\", 228.99, 32.26, 7.2, 82099.3, 7.6, \"furniture\", 12.54, 7.58] + [nan] * (df.shape[1] - 9)\n",
    "]\n",
    "\n",
    "# 10-ое\n",
    "SERENITY_AC = [\n",
    "    [\"cargo vessel\", 75.0, 10.7, 3.3, 1750.0, 8.2, \"appliances\", 2.12, 0.85] + [nan] * (df.shape[1] - 9)\n",
    "]"
   ]
  },
  {
   "cell_type": "code",
   "execution_count": 86,
   "metadata": {},
   "outputs": [],
   "source": [
    "# Добавляем данные в df\n",
    "df = pd.concat([df, pd.DataFrame(data=np.array(AMIRA_MARYANA), columns=df.columns)], ignore_index=True)"
   ]
  },
  {
   "cell_type": "code",
   "execution_count": 5,
   "metadata": {},
   "outputs": [
    {
     "data": {
      "text/html": [
       "<div>\n",
       "<style scoped>\n",
       "    .dataframe tbody tr th:only-of-type {\n",
       "        vertical-align: middle;\n",
       "    }\n",
       "\n",
       "    .dataframe tbody tr th {\n",
       "        vertical-align: top;\n",
       "    }\n",
       "\n",
       "    .dataframe thead th {\n",
       "        text-align: right;\n",
       "    }\n",
       "</style>\n",
       "<table border=\"1\" class=\"dataframe\">\n",
       "  <thead>\n",
       "    <tr style=\"text-align: right;\">\n",
       "      <th></th>\n",
       "      <th>vessel_type</th>\n",
       "      <th>L</th>\n",
       "      <th>B</th>\n",
       "      <th>d</th>\n",
       "      <th>DW</th>\n",
       "      <th>speed</th>\n",
       "      <th>cargo_type</th>\n",
       "      <th>cargo_length</th>\n",
       "      <th>cargo_breadth</th>\n",
       "      <th>cost_per_mile</th>\n",
       "      <th>cargo_demand</th>\n",
       "      <th>cargo_value</th>\n",
       "      <th>cargo_fragility</th>\n",
       "      <th>cargo_danger</th>\n",
       "      <th>sea_route</th>\n",
       "      <th>wind_strength</th>\n",
       "      <th>sea_state</th>\n",
       "      <th>wind_direction</th>\n",
       "      <th>natural_disaster</th>\n",
       "      <th>target</th>\n",
       "    </tr>\n",
       "  </thead>\n",
       "  <tbody>\n",
       "  </tbody>\n",
       "</table>\n",
       "</div>"
      ],
      "text/plain": [
       "Empty DataFrame\n",
       "Columns: [vessel_type, L, B, d, DW, speed, cargo_type, cargo_length, cargo_breadth, cost_per_mile, cargo_demand, cargo_value, cargo_fragility, cargo_danger, sea_route, wind_strength, sea_state, wind_direction, natural_disaster, target]\n",
       "Index: []"
      ]
     },
     "execution_count": 5,
     "metadata": {},
     "output_type": "execute_result"
    }
   ],
   "source": [
    "df"
   ]
  },
  {
   "cell_type": "markdown",
   "metadata": {},
   "source": [
    "## Танкеры"
   ]
  },
  {
   "cell_type": "code",
   "execution_count": null,
   "metadata": {},
   "outputs": [],
   "source": []
  }
 ],
 "metadata": {
  "kernelspec": {
   "display_name": "Python 3",
   "language": "python",
   "name": "python3"
  },
  "language_info": {
   "codemirror_mode": {
    "name": "ipython",
    "version": 3
   },
   "file_extension": ".py",
   "mimetype": "text/x-python",
   "name": "python",
   "nbconvert_exporter": "python",
   "pygments_lexer": "ipython3",
   "version": "3.10.5"
  }
 },
 "nbformat": 4,
 "nbformat_minor": 2
}
